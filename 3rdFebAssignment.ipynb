{
 "cells": [
  {
   "cell_type": "code",
   "execution_count": 8,
   "id": "536d16b5-3536-4110-9eb4-28985519106f",
   "metadata": {
    "tags": []
   },
   "outputs": [
    {
     "name": "stdout",
     "output_type": "stream",
     "text": [
      "[1, 3, 5, 7, 9, 11, 13, 15, 17, 19, 21, 23, 25]\n"
     ]
    }
   ],
   "source": [
    "\"\"\"Q1. Which keyword is used to create a function? Create a function to return a list of odd numbers in the\n",
    "range of 1 to 25.\n",
    "\n",
    "Ans:\n",
    "'def' keyword is used to create a function.\"\"\"\n",
    "odd_list = []\n",
    "def odd_numbers(x,y):\n",
    "    for i in range(x,y):\n",
    "        if i % 2 != 0:\n",
    "            odd_list.append(i)\n",
    "        else:\n",
    "            pass\n",
    "    return print(odd_list)\n",
    "\n",
    "odd_numbers(1,26)\n"
   ]
  },
  {
   "cell_type": "code",
   "execution_count": 15,
   "id": "2db60ff6-d775-472b-b434-7b5c5a65450c",
   "metadata": {},
   "outputs": [
    {
     "data": {
      "text/plain": [
       "{'Akram': 88, 'Ajay': 85, 'Ankita': 90, 'Zeeshan': 80}"
      ]
     },
     "execution_count": 15,
     "metadata": {},
     "output_type": "execute_result"
    }
   ],
   "source": [
    "\"\"\"Q2. Why *args and **kwargs is used in some functions? Create a function each for *args and **kwargs\n",
    "to demonstrate their use.\n",
    "\n",
    "Ans:\n",
    "*args and **kwargs are special syntax in Python that allows a function to accept number of arguments to pass in the function.\n",
    "*args allows a function to accept any number of positional arguments, which are packed into a tuple, while \n",
    "**kwargs allows a function to accept any number of keyword arguments, which are packed into a dictionary.\"\"\"\n",
    "\n",
    "def add_num(*numbers):\n",
    "    sum = 0\n",
    "    for i in numbers:\n",
    "        sum = sum + i\n",
    "    return sum\n",
    "add_num(1,2,3,4,5,6,7,8,9,10)\n",
    "\n",
    "\n",
    "def name_marks(**kwargs):\n",
    "    return kwargs\n",
    "name_marks(Akram = 88, Ajay = 85, Ankita = 90, Zeeshan = 80)\n",
    "    "
   ]
  },
  {
   "cell_type": "code",
   "execution_count": 27,
   "id": "810654a1-e0ad-4c80-b85e-70a50cd1c8ac",
   "metadata": {},
   "outputs": [
    {
     "name": "stdout",
     "output_type": "stream",
     "text": [
      "2\n",
      "4\n",
      "6\n",
      "8\n",
      "10\n"
     ]
    }
   ],
   "source": [
    "\"\"\"Q3. What is an iterator in python? Name the method used to initialise the iterator object and the method\n",
    "used for iteration. Use these methods to print the first five elements of the given list [2, 4, 6, 8, 10, 12, 14,\n",
    "16, 18, 20].\n",
    "\n",
    "Ans.\n",
    "An iterator is an object in python that can be iterated upon or that can be used to loop through collections.\n",
    "In python an Iterator consists of two method '__Iter__()' and '__next__()'.The __iter__() method returns the iterator object itself,\n",
    "while the __next__() method returns the next value in the iteration.\"\"\"\n",
    "\n",
    "num_list = [2, 4, 6, 8, 10, 12, 14, 16, 18, 20]\n",
    "num_iter = iter(num_list)\n",
    "\n",
    "for i in range(5):\n",
    "    print(next(num_iter))"
   ]
  },
  {
   "cell_type": "code",
   "execution_count": null,
   "id": "32ae374e-a2fc-4fb9-a6ac-514088230785",
   "metadata": {},
   "outputs": [],
   "source": [
    "\"\"\"Q4. What is a generator function in python? Why yield keyword is used? Give an example of a generator\n",
    "function.\n",
    "\n",
    "Ans:\n",
    "A generator function is a special type of function in Python that allows you to generate\n",
    "a sequence of values when iterated over.\n",
    "The main advantage of using the \"yield\" keyword in a generator function is that it allows you to generate values\n",
    "one at a time, instead of generating all of them at once and storing them in memory. Yield only pauses the execution of the\n",
    "function while return terminates the execution the function.\"\"\"\n",
    "\n",
    "def gen_func(x):\n",
    "    for i in range(x):\n",
    "        yield i\n",
    "        \n",
    "func = gen_func(7)\n",
    "\n",
    "print(next(func))\n",
    "print(next(func))\n",
    "print(next(func))\n",
    "print(next(func))"
   ]
  },
  {
   "cell_type": "code",
   "execution_count": 29,
   "id": "1561354a-bf27-4b99-8b26-ad9f96396288",
   "metadata": {},
   "outputs": [
    {
     "name": "stdout",
     "output_type": "stream",
     "text": [
      "2\n",
      "3\n",
      "5\n",
      "7\n",
      "11\n",
      "13\n",
      "17\n",
      "19\n",
      "23\n",
      "29\n",
      "31\n",
      "37\n",
      "41\n",
      "43\n",
      "47\n",
      "53\n",
      "59\n",
      "61\n",
      "67\n",
      "71\n"
     ]
    }
   ],
   "source": [
    "\"\"\"Q5. Create a generator function for prime numbers less than 1000. Use the next() method to print the\n",
    "first 20 prime numbers.\n",
    "\n",
    "Ans:\"\"\"\n",
    "def prime_number():\n",
    "    for num in range(2, 1000):\n",
    "        if num == 2 or num == 3 or num == 5 or num == 7:\n",
    "            yield num\n",
    "        elif num % 2 == 0 or num % 3 == 0 or num % 5 == 0 or num % 7 == 0:\n",
    "            continue\n",
    "        else:\n",
    "            yield num\n",
    "prime_gen_obj = prime_number()\n",
    "\n",
    "for i in range(20):\n",
    "    print(next(prime_gen_obj))"
   ]
  },
  {
   "cell_type": "code",
   "execution_count": 30,
   "id": "e5f2750c-d2c5-4773-9270-6ec6b249585e",
   "metadata": {},
   "outputs": [
    {
     "name": "stdout",
     "output_type": "stream",
     "text": [
      "0\n",
      "1\n",
      "1\n",
      "2\n",
      "3\n",
      "5\n",
      "8\n",
      "13\n",
      "21\n",
      "34\n"
     ]
    }
   ],
   "source": [
    "\"\"\"Q6. Write a python program to print the first 10 Fibonacci numbers using a while loop.\n",
    "Ans:\"\"\"\n",
    "\n",
    "i = 1\n",
    "a, b = 0, 1\n",
    "while i<= 10:\n",
    "    print(a)\n",
    "    a, b = b, a + b\n",
    "    i = i + 1"
   ]
  },
  {
   "cell_type": "code",
   "execution_count": 3,
   "id": "7ae1a852-d898-4e29-8aac-4e8787900d84",
   "metadata": {},
   "outputs": [
    {
     "data": {
      "text/plain": [
       "['p', 'w', 's', 'k', 'i', 'l', 'l', 's']"
      ]
     },
     "execution_count": 3,
     "metadata": {},
     "output_type": "execute_result"
    }
   ],
   "source": [
    "\"\"\"Q7. Write a List Comprehension to iterate through the given string: ‘pwskills’.\n",
    "Expected output: ['p', 'w', 's', 'k', 'i', 'l', 'l', 's']\n",
    "Ans:\"\"\"\n",
    "\n",
    "str = 'pwskills'\n",
    "[i for i in str]"
   ]
  },
  {
   "cell_type": "code",
   "execution_count": null,
   "id": "8ace26c7-4de2-4cc9-8087-414cd4c662ed",
   "metadata": {},
   "outputs": [],
   "source": [
    "\"\"\"Q8. Write a python program to check whether a given number is Palindrome or not using a while loop.\n",
    "Ans:\"\"\"\n",
    "\n",
    "num1 = input(\"Enter a Number:\")\n",
    "num2 = num1[::-1]\n",
    "Palin = True\n",
    "i = 0\n",
    "while i < len(num1):\n",
    "    if num1[i] == num2[i]:\n",
    "       pass\n",
    "    else:\n",
    "        Palin = False\n",
    "    i = i + 1\n",
    "if Palin:\n",
    "    print(\"Palindrome\")\n",
    "else:\n",
    "    print(\"Not Palindrome\")"
   ]
  },
  {
   "cell_type": "code",
   "execution_count": null,
   "id": "76701b1e-3e14-4ddc-8bf7-6f8cb98e60c7",
   "metadata": {},
   "outputs": [],
   "source": [
    "\"\"\"Q9. Write a code to print odd numbers from 1 to 100 using list comprehension.\n",
    "Ans:\"\"\"\n",
    "\n",
    "lst = [i for i in range(1, 101)]\n",
    "[i for i in lst if i % 2 != 0 ]"
   ]
  },
  {
   "cell_type": "code",
   "execution_count": null,
   "id": "3bb9af7c-7024-43dd-b1f7-d75880492d32",
   "metadata": {},
   "outputs": [],
   "source": []
  }
 ],
 "metadata": {
  "kernelspec": {
   "display_name": "Python 3 (ipykernel)",
   "language": "python",
   "name": "python3"
  },
  "language_info": {
   "codemirror_mode": {
    "name": "ipython",
    "version": 3
   },
   "file_extension": ".py",
   "mimetype": "text/x-python",
   "name": "python",
   "nbconvert_exporter": "python",
   "pygments_lexer": "ipython3",
   "version": "3.10.8"
  }
 },
 "nbformat": 4,
 "nbformat_minor": 5
}
